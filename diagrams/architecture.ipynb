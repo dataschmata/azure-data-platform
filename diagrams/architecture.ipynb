from diagrams import Diagram, Cluster
from diagrams.azure.storage import StorageAccounts
from diagrams.azure.security import KeyVaults
from diagrams.azure.network import VirtualNetworks, Subnets
from diagrams.azure.general import Resourcegroups
from diagrams.azure.analytics import Databricks

with Diagram(name="Azure Data Platform", filename="az-data-platform", 
    show=False) as diag:
    with Cluster("Resource Groups"):
        rsg_main = Resourcegroups("rsg_main")
        kvt_100 = KeyVaults("kvt_100")
        with Cluster("VPN"):
            vnt_main = VirtualNetworks("vnt_main")
            dbw_100 = Databricks("dbw_100")
            with Cluster("snt_main"):
                snt_main = Subnets("snt_main")
                sta_100 = StorageAccounts("sta_100")
            with Cluster("Subnet Databricks Public"):
                snt_pub = Subnets("snt_pub")
            with Cluster("Subnet Databricks Private"):
                snt_pvt = Subnets("snt_pvt")


    rsg_main >> vnt_main >> dbw_100
    rsg_main >> kvt_100
    vnt_main >> snt_main >> sta_100
    dbw_100 >> snt_pub
    dbw_100 >> snt_pvt


diag


#            with Cluster("Subnets"):
#                snt_group = [Subnets("snt_main")
#                Subnets("snt_pub"),
#                Subnets("snt_pvt")]