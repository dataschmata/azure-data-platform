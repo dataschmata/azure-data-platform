from diagrams import Diagram
from diagrams.aws.compute import EC2

with Diagram(name="Simple Diagram", filename="/diagrams/my_diagram", show=False) as diag:
    EC2("web")
diag


